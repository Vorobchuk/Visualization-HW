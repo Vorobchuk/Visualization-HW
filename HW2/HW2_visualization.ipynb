{
 "cells": [
  {
   "cell_type": "markdown",
   "metadata": {},
   "source": [
    "Ваше завдання створити візуалізації, котрі відповідають на наступні питання:\n",
    "\n",
    "- Як змінювалась структура генерації електроенергії за роками?\n",
    "\n",
    "- Як залежить споживання електроенергії від дня року та години доби?\n",
    "\n",
    "- Як змінюється генерація електроенергії з різних джерел впродовж доби?\n",
    "\n",
    "- Як змінюється споживання електроенергії впродовж доби у розрізі місяців року та пір року?\n",
    "\n",
    "- Як змінюється споживання електроенергії впродовж тижня?\n",
    "\n",
    "Ви самостійно маєте обрати спосіб візуалізації. Ви також маєте написати короткий супровідний текст до кожної візуалізації, котрий пояснює, чому ви обрали саме цей спосіб презентації даних, які ще альтернативи ви розглядали, та чому зупинились саме на цьому варіанті (які його переваги та недоліки).\n"
   ]
  },
  {
   "cell_type": "code",
   "execution_count": 1,
   "metadata": {},
   "outputs": [],
   "source": [
    "import pandas as pd\n",
    "import altair as alt"
   ]
  },
  {
   "cell_type": "code",
   "execution_count": 2,
   "metadata": {},
   "outputs": [
    {
     "data": {
      "text/html": [
       "<div>\n",
       "<style scoped>\n",
       "    .dataframe tbody tr th:only-of-type {\n",
       "        vertical-align: middle;\n",
       "    }\n",
       "\n",
       "    .dataframe tbody tr th {\n",
       "        vertical-align: top;\n",
       "    }\n",
       "\n",
       "    .dataframe thead th {\n",
       "        text-align: right;\n",
       "    }\n",
       "</style>\n",
       "<table border=\"1\" class=\"dataframe\">\n",
       "  <thead>\n",
       "    <tr style=\"text-align: right;\">\n",
       "      <th></th>\n",
       "      <th>Час/Дата</th>\n",
       "      <th>AES</th>\n",
       "      <th>TEC</th>\n",
       "      <th>VDE</th>\n",
       "      <th>TES</th>\n",
       "      <th>GES</th>\n",
       "      <th>GAES_GEN</th>\n",
       "      <th>CONSUMPTION</th>\n",
       "      <th>GAES_PUMP</th>\n",
       "      <th>UK_BLR_RUS</th>\n",
       "      <th>UK_EURO</th>\n",
       "      <th>UK_MLD</th>\n",
       "      <th>Unnamed: 12</th>\n",
       "    </tr>\n",
       "  </thead>\n",
       "  <tbody>\n",
       "    <tr>\n",
       "      <th>0</th>\n",
       "      <td>24-31.12.2020</td>\n",
       "      <td>9235</td>\n",
       "      <td>2039</td>\n",
       "      <td>621</td>\n",
       "      <td>4942</td>\n",
       "      <td>385.0</td>\n",
       "      <td>0</td>\n",
       "      <td>16693</td>\n",
       "      <td>-405.0</td>\n",
       "      <td>-84.0</td>\n",
       "      <td>-11.0</td>\n",
       "      <td>-29.0</td>\n",
       "      <td>NaN</td>\n",
       "    </tr>\n",
       "    <tr>\n",
       "      <th>1</th>\n",
       "      <td>23-31.12.2020</td>\n",
       "      <td>9221</td>\n",
       "      <td>2159</td>\n",
       "      <td>707</td>\n",
       "      <td>5549</td>\n",
       "      <td>470.0</td>\n",
       "      <td>0</td>\n",
       "      <td>17805</td>\n",
       "      <td>0.0</td>\n",
       "      <td>-43.0</td>\n",
       "      <td>-212.0</td>\n",
       "      <td>-46.0</td>\n",
       "      <td>NaN</td>\n",
       "    </tr>\n",
       "    <tr>\n",
       "      <th>2</th>\n",
       "      <td>22-31.12.2020</td>\n",
       "      <td>9249</td>\n",
       "      <td>2377</td>\n",
       "      <td>709</td>\n",
       "      <td>5906</td>\n",
       "      <td>1000.0</td>\n",
       "      <td>0</td>\n",
       "      <td>18870</td>\n",
       "      <td>0.0</td>\n",
       "      <td>-13.0</td>\n",
       "      <td>-328.0</td>\n",
       "      <td>-30.0</td>\n",
       "      <td>NaN</td>\n",
       "    </tr>\n",
       "    <tr>\n",
       "      <th>3</th>\n",
       "      <td>21-31.12.2020</td>\n",
       "      <td>9256</td>\n",
       "      <td>2499</td>\n",
       "      <td>702</td>\n",
       "      <td>6329</td>\n",
       "      <td>909.0</td>\n",
       "      <td>322</td>\n",
       "      <td>19887</td>\n",
       "      <td>0.0</td>\n",
       "      <td>0.0</td>\n",
       "      <td>-64.0</td>\n",
       "      <td>-66.0</td>\n",
       "      <td>NaN</td>\n",
       "    </tr>\n",
       "    <tr>\n",
       "      <th>4</th>\n",
       "      <td>20-31.12.2020</td>\n",
       "      <td>9213</td>\n",
       "      <td>2521</td>\n",
       "      <td>702</td>\n",
       "      <td>6640</td>\n",
       "      <td>823.0</td>\n",
       "      <td>602</td>\n",
       "      <td>20387</td>\n",
       "      <td>0.0</td>\n",
       "      <td>-29.0</td>\n",
       "      <td>-48.0</td>\n",
       "      <td>-37.0</td>\n",
       "      <td>NaN</td>\n",
       "    </tr>\n",
       "  </tbody>\n",
       "</table>\n",
       "</div>"
      ],
      "text/plain": [
       "        Час/Дата   AES   TEC  VDE   TES     GES  GAES_GEN  CONSUMPTION  \\\n",
       "0  24-31.12.2020  9235  2039  621  4942   385.0         0        16693   \n",
       "1  23-31.12.2020  9221  2159  707  5549   470.0         0        17805   \n",
       "2  22-31.12.2020  9249  2377  709  5906  1000.0         0        18870   \n",
       "3  21-31.12.2020  9256  2499  702  6329   909.0       322        19887   \n",
       "4  20-31.12.2020  9213  2521  702  6640   823.0       602        20387   \n",
       "\n",
       "   GAES_PUMP  UK_BLR_RUS  UK_EURO  UK_MLD  Unnamed: 12  \n",
       "0     -405.0       -84.0    -11.0   -29.0          NaN  \n",
       "1        0.0       -43.0   -212.0   -46.0          NaN  \n",
       "2        0.0       -13.0   -328.0   -30.0          NaN  \n",
       "3        0.0         0.0    -64.0   -66.0          NaN  \n",
       "4        0.0       -29.0    -48.0   -37.0          NaN  "
      ]
     },
     "execution_count": 2,
     "metadata": {},
     "output_type": "execute_result"
    }
   ],
   "source": [
    "df = pd.read_excel('2014-2020.xlsx')\n",
    "df.head()"
   ]
  },
  {
   "cell_type": "code",
   "execution_count": 3,
   "metadata": {},
   "outputs": [],
   "source": [
    "df = df.drop(columns=['Unnamed: 12'])"
   ]
  },
  {
   "cell_type": "code",
   "execution_count": 4,
   "metadata": {},
   "outputs": [],
   "source": [
    "df[['Hour','Date']] = df['Час/Дата'].str.split('-',expand=True)"
   ]
  },
  {
   "cell_type": "code",
   "execution_count": 5,
   "metadata": {},
   "outputs": [],
   "source": [
    "df[['Day','Month','Year']] = df['Date'].str.split('.',expand=True)"
   ]
  },
  {
   "cell_type": "code",
   "execution_count": 6,
   "metadata": {},
   "outputs": [],
   "source": [
    "df['Hour'] = pd.to_numeric(df['Hour'])\n",
    "df['Day'] = pd.to_numeric(df['Day'])\n",
    "df['Month'] = pd.to_numeric(df['Month'])\n",
    "df['Year'] = pd.to_numeric(df['Year'])\n",
    "df['time'] = pd.to_timedelta(df['Hour'], unit='h')\n",
    "df['Date'] = pd.to_datetime(df['Date'])"
   ]
  },
  {
   "cell_type": "code",
   "execution_count": 7,
   "metadata": {},
   "outputs": [],
   "source": [
    "df.drop(['Час/Дата', 'GAES_PUMP','UK_BLR_RUS', 'UK_EURO', 'UK_MLD'],  axis = 1, inplace = True)"
   ]
  },
  {
   "cell_type": "code",
   "execution_count": 8,
   "metadata": {},
   "outputs": [],
   "source": [
    "df['Date_Time'] = df['Date'] +  df['time']"
   ]
  },
  {
   "cell_type": "code",
   "execution_count": 9,
   "metadata": {},
   "outputs": [
    {
     "data": {
      "text/html": [
       "<div>\n",
       "<style scoped>\n",
       "    .dataframe tbody tr th:only-of-type {\n",
       "        vertical-align: middle;\n",
       "    }\n",
       "\n",
       "    .dataframe tbody tr th {\n",
       "        vertical-align: top;\n",
       "    }\n",
       "\n",
       "    .dataframe thead th {\n",
       "        text-align: right;\n",
       "    }\n",
       "</style>\n",
       "<table border=\"1\" class=\"dataframe\">\n",
       "  <thead>\n",
       "    <tr style=\"text-align: right;\">\n",
       "      <th></th>\n",
       "      <th>AES</th>\n",
       "      <th>TEC</th>\n",
       "      <th>VDE</th>\n",
       "      <th>TES</th>\n",
       "      <th>GES</th>\n",
       "      <th>GAES_GEN</th>\n",
       "      <th>CONSUMPTION</th>\n",
       "      <th>Hour</th>\n",
       "      <th>Date</th>\n",
       "      <th>Day</th>\n",
       "      <th>Month</th>\n",
       "      <th>Year</th>\n",
       "      <th>time</th>\n",
       "      <th>Date_Time</th>\n",
       "    </tr>\n",
       "  </thead>\n",
       "  <tbody>\n",
       "    <tr>\n",
       "      <th>0</th>\n",
       "      <td>9235</td>\n",
       "      <td>2039</td>\n",
       "      <td>621</td>\n",
       "      <td>4942</td>\n",
       "      <td>385.0</td>\n",
       "      <td>0</td>\n",
       "      <td>16693</td>\n",
       "      <td>24</td>\n",
       "      <td>2020-12-31</td>\n",
       "      <td>31</td>\n",
       "      <td>12</td>\n",
       "      <td>2020</td>\n",
       "      <td>1 days 00:00:00</td>\n",
       "      <td>2021-01-01 00:00:00</td>\n",
       "    </tr>\n",
       "    <tr>\n",
       "      <th>1</th>\n",
       "      <td>9221</td>\n",
       "      <td>2159</td>\n",
       "      <td>707</td>\n",
       "      <td>5549</td>\n",
       "      <td>470.0</td>\n",
       "      <td>0</td>\n",
       "      <td>17805</td>\n",
       "      <td>23</td>\n",
       "      <td>2020-12-31</td>\n",
       "      <td>31</td>\n",
       "      <td>12</td>\n",
       "      <td>2020</td>\n",
       "      <td>0 days 23:00:00</td>\n",
       "      <td>2020-12-31 23:00:00</td>\n",
       "    </tr>\n",
       "    <tr>\n",
       "      <th>2</th>\n",
       "      <td>9249</td>\n",
       "      <td>2377</td>\n",
       "      <td>709</td>\n",
       "      <td>5906</td>\n",
       "      <td>1000.0</td>\n",
       "      <td>0</td>\n",
       "      <td>18870</td>\n",
       "      <td>22</td>\n",
       "      <td>2020-12-31</td>\n",
       "      <td>31</td>\n",
       "      <td>12</td>\n",
       "      <td>2020</td>\n",
       "      <td>0 days 22:00:00</td>\n",
       "      <td>2020-12-31 22:00:00</td>\n",
       "    </tr>\n",
       "    <tr>\n",
       "      <th>3</th>\n",
       "      <td>9256</td>\n",
       "      <td>2499</td>\n",
       "      <td>702</td>\n",
       "      <td>6329</td>\n",
       "      <td>909.0</td>\n",
       "      <td>322</td>\n",
       "      <td>19887</td>\n",
       "      <td>21</td>\n",
       "      <td>2020-12-31</td>\n",
       "      <td>31</td>\n",
       "      <td>12</td>\n",
       "      <td>2020</td>\n",
       "      <td>0 days 21:00:00</td>\n",
       "      <td>2020-12-31 21:00:00</td>\n",
       "    </tr>\n",
       "    <tr>\n",
       "      <th>4</th>\n",
       "      <td>9213</td>\n",
       "      <td>2521</td>\n",
       "      <td>702</td>\n",
       "      <td>6640</td>\n",
       "      <td>823.0</td>\n",
       "      <td>602</td>\n",
       "      <td>20387</td>\n",
       "      <td>20</td>\n",
       "      <td>2020-12-31</td>\n",
       "      <td>31</td>\n",
       "      <td>12</td>\n",
       "      <td>2020</td>\n",
       "      <td>0 days 20:00:00</td>\n",
       "      <td>2020-12-31 20:00:00</td>\n",
       "    </tr>\n",
       "  </tbody>\n",
       "</table>\n",
       "</div>"
      ],
      "text/plain": [
       "    AES   TEC  VDE   TES     GES  GAES_GEN  CONSUMPTION  Hour       Date  Day  \\\n",
       "0  9235  2039  621  4942   385.0         0        16693    24 2020-12-31   31   \n",
       "1  9221  2159  707  5549   470.0         0        17805    23 2020-12-31   31   \n",
       "2  9249  2377  709  5906  1000.0         0        18870    22 2020-12-31   31   \n",
       "3  9256  2499  702  6329   909.0       322        19887    21 2020-12-31   31   \n",
       "4  9213  2521  702  6640   823.0       602        20387    20 2020-12-31   31   \n",
       "\n",
       "   Month  Year            time           Date_Time  \n",
       "0     12  2020 1 days 00:00:00 2021-01-01 00:00:00  \n",
       "1     12  2020 0 days 23:00:00 2020-12-31 23:00:00  \n",
       "2     12  2020 0 days 22:00:00 2020-12-31 22:00:00  \n",
       "3     12  2020 0 days 21:00:00 2020-12-31 21:00:00  \n",
       "4     12  2020 0 days 20:00:00 2020-12-31 20:00:00  "
      ]
     },
     "execution_count": 9,
     "metadata": {},
     "output_type": "execute_result"
    }
   ],
   "source": [
    "df.head()"
   ]
  },
  {
   "cell_type": "code",
   "execution_count": 10,
   "metadata": {},
   "outputs": [
    {
     "data": {
      "text/plain": [
       "DataTransformerRegistry.enable('default')"
      ]
     },
     "execution_count": 10,
     "metadata": {},
     "output_type": "execute_result"
    }
   ],
   "source": [
    "alt.data_transformers.disable_max_rows()"
   ]
  },
  {
   "cell_type": "code",
   "execution_count": 11,
   "metadata": {},
   "outputs": [],
   "source": [
    "df1 = df.iloc[:, : 6]\n",
    "df1['Year'] = df['Year']"
   ]
  },
  {
   "cell_type": "code",
   "execution_count": 12,
   "metadata": {},
   "outputs": [
    {
     "data": {
      "text/html": [
       "<div>\n",
       "<style scoped>\n",
       "    .dataframe tbody tr th:only-of-type {\n",
       "        vertical-align: middle;\n",
       "    }\n",
       "\n",
       "    .dataframe tbody tr th {\n",
       "        vertical-align: top;\n",
       "    }\n",
       "\n",
       "    .dataframe thead th {\n",
       "        text-align: right;\n",
       "    }\n",
       "</style>\n",
       "<table border=\"1\" class=\"dataframe\">\n",
       "  <thead>\n",
       "    <tr style=\"text-align: right;\">\n",
       "      <th></th>\n",
       "      <th>Year</th>\n",
       "      <th>AES</th>\n",
       "      <th>TEC</th>\n",
       "      <th>VDE</th>\n",
       "      <th>TES</th>\n",
       "      <th>GES</th>\n",
       "      <th>GAES_GEN</th>\n",
       "    </tr>\n",
       "  </thead>\n",
       "  <tbody>\n",
       "    <tr>\n",
       "      <th>0</th>\n",
       "      <td>2014</td>\n",
       "      <td>88204418</td>\n",
       "      <td>14684731</td>\n",
       "      <td>1606386</td>\n",
       "      <td>68605877</td>\n",
       "      <td>7991074.0</td>\n",
       "      <td>839842</td>\n",
       "    </tr>\n",
       "    <tr>\n",
       "      <th>1</th>\n",
       "      <td>2015</td>\n",
       "      <td>87413763</td>\n",
       "      <td>12041074</td>\n",
       "      <td>1234936</td>\n",
       "      <td>50259819</td>\n",
       "      <td>4964478.0</td>\n",
       "      <td>1554857</td>\n",
       "    </tr>\n",
       "    <tr>\n",
       "      <th>2</th>\n",
       "      <td>2016</td>\n",
       "      <td>80762094</td>\n",
       "      <td>12841033</td>\n",
       "      <td>1093190</td>\n",
       "      <td>49879543</td>\n",
       "      <td>7113989.0</td>\n",
       "      <td>1621377</td>\n",
       "    </tr>\n",
       "    <tr>\n",
       "      <th>3</th>\n",
       "      <td>2017</td>\n",
       "      <td>85314258</td>\n",
       "      <td>12208062</td>\n",
       "      <td>1177032</td>\n",
       "      <td>44945303</td>\n",
       "      <td>8531952.0</td>\n",
       "      <td>1575099</td>\n",
       "    </tr>\n",
       "    <tr>\n",
       "      <th>4</th>\n",
       "      <td>2018</td>\n",
       "      <td>84351328</td>\n",
       "      <td>12261018</td>\n",
       "      <td>1863726</td>\n",
       "      <td>47747092</td>\n",
       "      <td>10072767.0</td>\n",
       "      <td>1564867</td>\n",
       "    </tr>\n",
       "  </tbody>\n",
       "</table>\n",
       "</div>"
      ],
      "text/plain": [
       "   Year       AES       TEC      VDE       TES         GES  GAES_GEN\n",
       "0  2014  88204418  14684731  1606386  68605877   7991074.0    839842\n",
       "1  2015  87413763  12041074  1234936  50259819   4964478.0   1554857\n",
       "2  2016  80762094  12841033  1093190  49879543   7113989.0   1621377\n",
       "3  2017  85314258  12208062  1177032  44945303   8531952.0   1575099\n",
       "4  2018  84351328  12261018  1863726  47747092  10072767.0   1564867"
      ]
     },
     "execution_count": 12,
     "metadata": {},
     "output_type": "execute_result"
    }
   ],
   "source": [
    "df1 = df1.groupby('Year').sum()\n",
    "df1 = df1.reset_index()\n",
    "df1.head()"
   ]
  },
  {
   "cell_type": "markdown",
   "metadata": {},
   "source": [
    "### 1. Як змінювалась структура генерації електроенергії за роками?"
   ]
  },
  {
   "cell_type": "markdown",
   "metadata": {},
   "source": [
    "Я вирішила обрати візуалізацію за допомогою площин, щоб відповісти на це запитання.\n",
    "За допомогою такого типу графіку можна простежити сумарну генерацію електроенергії за різні роки, а також помітити окремий внесок кожного джерела до загальної генерації. Так ми бачимо і зміну в часі і частку від цілого.\n",
    "\n",
    "Недоліком цього варіанту є те, що може бути важко простежити саме в якій кількості змінювалась генерація кожного із джерел.\n",
    "\n",
    "Також тут зручно було б використовувати Bar Chart."
   ]
  },
  {
   "cell_type": "code",
   "execution_count": 14,
   "metadata": {},
   "outputs": [],
   "source": [
    "c = alt.Chart(df1).transform_fold(\n",
    "    ['AES', 'TEC', 'VDE', 'TES', 'GES','GAES_GEN'], as_ = ['Source', 'Amount']).mark_area().encode(\n",
    "    alt.X('Year:N', scale = alt.Scale(0)),\n",
    "    alt.Y('Amount:Q', title = 'Amount of Power Generation'),\n",
    "    alt.Color('Source:N'),\n",
    "    tooltip = alt.Tooltip('Amount:Q')\n",
    ").properties(title='Зміна структури генерації електроенергії за роками', width = 950, height = 500, background = '#F9F9F9', padding = 25)"
   ]
  },
  {
   "cell_type": "code",
   "execution_count": 15,
   "metadata": {},
   "outputs": [
    {
     "name": "stdout",
     "output_type": "stream",
     "text": [
      "Displaying chart at http://localhost:18632/\n"
     ]
    }
   ],
   "source": [
    "c.show()"
   ]
  },
  {
   "cell_type": "code",
   "execution_count": 16,
   "metadata": {},
   "outputs": [],
   "source": [
    "df2_1 = df[['Date_Time', 'CONSUMPTION']]"
   ]
  },
  {
   "cell_type": "code",
   "execution_count": 17,
   "metadata": {},
   "outputs": [
    {
     "data": {
      "text/html": [
       "<div>\n",
       "<style scoped>\n",
       "    .dataframe tbody tr th:only-of-type {\n",
       "        vertical-align: middle;\n",
       "    }\n",
       "\n",
       "    .dataframe tbody tr th {\n",
       "        vertical-align: top;\n",
       "    }\n",
       "\n",
       "    .dataframe thead th {\n",
       "        text-align: right;\n",
       "    }\n",
       "</style>\n",
       "<table border=\"1\" class=\"dataframe\">\n",
       "  <thead>\n",
       "    <tr style=\"text-align: right;\">\n",
       "      <th></th>\n",
       "      <th>Date_Time</th>\n",
       "      <th>CONSUMPTION</th>\n",
       "    </tr>\n",
       "  </thead>\n",
       "  <tbody>\n",
       "    <tr>\n",
       "      <th>0</th>\n",
       "      <td>2021-01-01 00:00:00</td>\n",
       "      <td>16693</td>\n",
       "    </tr>\n",
       "    <tr>\n",
       "      <th>1</th>\n",
       "      <td>2020-12-31 23:00:00</td>\n",
       "      <td>17805</td>\n",
       "    </tr>\n",
       "    <tr>\n",
       "      <th>2</th>\n",
       "      <td>2020-12-31 22:00:00</td>\n",
       "      <td>18870</td>\n",
       "    </tr>\n",
       "    <tr>\n",
       "      <th>3</th>\n",
       "      <td>2020-12-31 21:00:00</td>\n",
       "      <td>19887</td>\n",
       "    </tr>\n",
       "    <tr>\n",
       "      <th>4</th>\n",
       "      <td>2020-12-31 20:00:00</td>\n",
       "      <td>20387</td>\n",
       "    </tr>\n",
       "    <tr>\n",
       "      <th>...</th>\n",
       "      <td>...</td>\n",
       "      <td>...</td>\n",
       "    </tr>\n",
       "    <tr>\n",
       "      <th>61363</th>\n",
       "      <td>2014-01-01 05:00:00</td>\n",
       "      <td>18072</td>\n",
       "    </tr>\n",
       "    <tr>\n",
       "      <th>61364</th>\n",
       "      <td>2014-01-01 04:00:00</td>\n",
       "      <td>18453</td>\n",
       "    </tr>\n",
       "    <tr>\n",
       "      <th>61365</th>\n",
       "      <td>2014-01-01 03:00:00</td>\n",
       "      <td>19107</td>\n",
       "    </tr>\n",
       "    <tr>\n",
       "      <th>61366</th>\n",
       "      <td>2014-01-01 02:00:00</td>\n",
       "      <td>19665</td>\n",
       "    </tr>\n",
       "    <tr>\n",
       "      <th>61367</th>\n",
       "      <td>2014-01-01 01:00:00</td>\n",
       "      <td>20586</td>\n",
       "    </tr>\n",
       "  </tbody>\n",
       "</table>\n",
       "<p>61368 rows × 2 columns</p>\n",
       "</div>"
      ],
      "text/plain": [
       "                Date_Time  CONSUMPTION\n",
       "0     2021-01-01 00:00:00        16693\n",
       "1     2020-12-31 23:00:00        17805\n",
       "2     2020-12-31 22:00:00        18870\n",
       "3     2020-12-31 21:00:00        19887\n",
       "4     2020-12-31 20:00:00        20387\n",
       "...                   ...          ...\n",
       "61363 2014-01-01 05:00:00        18072\n",
       "61364 2014-01-01 04:00:00        18453\n",
       "61365 2014-01-01 03:00:00        19107\n",
       "61366 2014-01-01 02:00:00        19665\n",
       "61367 2014-01-01 01:00:00        20586\n",
       "\n",
       "[61368 rows x 2 columns]"
      ]
     },
     "execution_count": 17,
     "metadata": {},
     "output_type": "execute_result"
    }
   ],
   "source": [
    "df2_1"
   ]
  },
  {
   "cell_type": "code",
   "execution_count": 18,
   "metadata": {},
   "outputs": [
    {
     "name": "stderr",
     "output_type": "stream",
     "text": [
      "/home/alina/anaconda3/lib/python3.6/site-packages/ipykernel_launcher.py:2: SettingWithCopyWarning: \n",
      "A value is trying to be set on a copy of a slice from a DataFrame.\n",
      "Try using .loc[row_indexer,col_indexer] = value instead\n",
      "\n",
      "See the caveats in the documentation: https://pandas.pydata.org/pandas-docs/stable/user_guide/indexing.html#returning-a-view-versus-a-copy\n",
      "  \n"
     ]
    }
   ],
   "source": [
    "df2 = df[['Hour', 'CONSUMPTION']]\n",
    "df2['day_of_year'] = df['Date_Time'].dt.dayofyear"
   ]
  },
  {
   "cell_type": "code",
   "execution_count": 19,
   "metadata": {},
   "outputs": [],
   "source": [
    "df_2 = df2.groupby(['Hour', 'day_of_year']).mean()['CONSUMPTION'].reset_index() "
   ]
  },
  {
   "cell_type": "code",
   "execution_count": 20,
   "metadata": {},
   "outputs": [
    {
     "data": {
      "text/html": [
       "<div>\n",
       "<style scoped>\n",
       "    .dataframe tbody tr th:only-of-type {\n",
       "        vertical-align: middle;\n",
       "    }\n",
       "\n",
       "    .dataframe tbody tr th {\n",
       "        vertical-align: top;\n",
       "    }\n",
       "\n",
       "    .dataframe thead th {\n",
       "        text-align: right;\n",
       "    }\n",
       "</style>\n",
       "<table border=\"1\" class=\"dataframe\">\n",
       "  <thead>\n",
       "    <tr style=\"text-align: right;\">\n",
       "      <th></th>\n",
       "      <th>Hour</th>\n",
       "      <th>day_of_year</th>\n",
       "      <th>CONSUMPTION</th>\n",
       "    </tr>\n",
       "  </thead>\n",
       "  <tbody>\n",
       "    <tr>\n",
       "      <th>0</th>\n",
       "      <td>1</td>\n",
       "      <td>1</td>\n",
       "      <td>18202.428571</td>\n",
       "    </tr>\n",
       "    <tr>\n",
       "      <th>1</th>\n",
       "      <td>1</td>\n",
       "      <td>2</td>\n",
       "      <td>17965.714286</td>\n",
       "    </tr>\n",
       "    <tr>\n",
       "      <th>2</th>\n",
       "      <td>1</td>\n",
       "      <td>3</td>\n",
       "      <td>16941.714286</td>\n",
       "    </tr>\n",
       "    <tr>\n",
       "      <th>3</th>\n",
       "      <td>1</td>\n",
       "      <td>4</td>\n",
       "      <td>15692.428571</td>\n",
       "    </tr>\n",
       "    <tr>\n",
       "      <th>4</th>\n",
       "      <td>1</td>\n",
       "      <td>5</td>\n",
       "      <td>13415.285714</td>\n",
       "    </tr>\n",
       "    <tr>\n",
       "      <th>...</th>\n",
       "      <td>...</td>\n",
       "      <td>...</td>\n",
       "      <td>...</td>\n",
       "    </tr>\n",
       "    <tr>\n",
       "      <th>8779</th>\n",
       "      <td>24</td>\n",
       "      <td>362</td>\n",
       "      <td>17921.000000</td>\n",
       "    </tr>\n",
       "    <tr>\n",
       "      <th>8780</th>\n",
       "      <td>24</td>\n",
       "      <td>363</td>\n",
       "      <td>17909.000000</td>\n",
       "    </tr>\n",
       "    <tr>\n",
       "      <th>8781</th>\n",
       "      <td>24</td>\n",
       "      <td>364</td>\n",
       "      <td>17889.000000</td>\n",
       "    </tr>\n",
       "    <tr>\n",
       "      <th>8782</th>\n",
       "      <td>24</td>\n",
       "      <td>365</td>\n",
       "      <td>18243.428571</td>\n",
       "    </tr>\n",
       "    <tr>\n",
       "      <th>8783</th>\n",
       "      <td>24</td>\n",
       "      <td>366</td>\n",
       "      <td>17874.000000</td>\n",
       "    </tr>\n",
       "  </tbody>\n",
       "</table>\n",
       "<p>8784 rows × 3 columns</p>\n",
       "</div>"
      ],
      "text/plain": [
       "      Hour  day_of_year   CONSUMPTION\n",
       "0        1            1  18202.428571\n",
       "1        1            2  17965.714286\n",
       "2        1            3  16941.714286\n",
       "3        1            4  15692.428571\n",
       "4        1            5  13415.285714\n",
       "...    ...          ...           ...\n",
       "8779    24          362  17921.000000\n",
       "8780    24          363  17909.000000\n",
       "8781    24          364  17889.000000\n",
       "8782    24          365  18243.428571\n",
       "8783    24          366  17874.000000\n",
       "\n",
       "[8784 rows x 3 columns]"
      ]
     },
     "execution_count": 20,
     "metadata": {},
     "output_type": "execute_result"
    }
   ],
   "source": [
    "df_2"
   ]
  },
  {
   "cell_type": "markdown",
   "metadata": {},
   "source": [
    "### 2. Як залежить споживання електроенергії від дня року та години доби?"
   ]
  },
  {
   "cell_type": "markdown",
   "metadata": {},
   "source": [
    "Оскільки в цьому завданні потрібно було відображати таку велику кількість даних як споживання електроенергії впродовж дня року та години доби, то найкращий варіант для мене була візуалізація Heat Map. \n",
    "За допомогою кольору легко відслідкувати значну зміну в споживанні.\n",
    "Мінусом такої візуалізації є те, що неможливо побачити точну кількість спожитої електроенергії за конкретний день."
   ]
  },
  {
   "cell_type": "code",
   "execution_count": 21,
   "metadata": {},
   "outputs": [],
   "source": [
    "c2 = alt.Chart(df_2).mark_rect().encode(\n",
    "    alt.X('day_of_year:O', title='Day of the year'),\n",
    "    alt.Y('Hour:O', title='Hour of day'),\n",
    "    alt.Color('CONSUMPTION:Q', title='Consumption', scale = alt.Scale(scheme = 'blueorange'))\n",
    ").properties(width = 1250, height = 500, background = '#F9F9F9', padding = 25,\n",
    "              title=\"Залежність споживання електроенергії від дня року та години доби\")"
   ]
  },
  {
   "cell_type": "code",
   "execution_count": 22,
   "metadata": {},
   "outputs": [
    {
     "name": "stdout",
     "output_type": "stream",
     "text": [
      "Displaying chart at http://localhost:18632/\n"
     ]
    }
   ],
   "source": [
    "c2.show()"
   ]
  },
  {
   "cell_type": "code",
   "execution_count": 23,
   "metadata": {},
   "outputs": [
    {
     "data": {
      "text/html": [
       "<div>\n",
       "<style scoped>\n",
       "    .dataframe tbody tr th:only-of-type {\n",
       "        vertical-align: middle;\n",
       "    }\n",
       "\n",
       "    .dataframe tbody tr th {\n",
       "        vertical-align: top;\n",
       "    }\n",
       "\n",
       "    .dataframe thead th {\n",
       "        text-align: right;\n",
       "    }\n",
       "</style>\n",
       "<table border=\"1\" class=\"dataframe\">\n",
       "  <thead>\n",
       "    <tr style=\"text-align: right;\">\n",
       "      <th></th>\n",
       "      <th>Hour</th>\n",
       "      <th>AES</th>\n",
       "      <th>TEC</th>\n",
       "      <th>VDE</th>\n",
       "      <th>TES</th>\n",
       "      <th>GES</th>\n",
       "      <th>GAES_GEN</th>\n",
       "    </tr>\n",
       "  </thead>\n",
       "  <tbody>\n",
       "    <tr>\n",
       "      <th>0</th>\n",
       "      <td>1</td>\n",
       "      <td>9533.777865</td>\n",
       "      <td>1428.560813</td>\n",
       "      <td>164.178334</td>\n",
       "      <td>4883.335549</td>\n",
       "      <td>413.657020</td>\n",
       "      <td>0.26711</td>\n",
       "    </tr>\n",
       "    <tr>\n",
       "      <th>1</th>\n",
       "      <td>2</td>\n",
       "      <td>9530.698084</td>\n",
       "      <td>1424.868987</td>\n",
       "      <td>164.754009</td>\n",
       "      <td>4772.738365</td>\n",
       "      <td>325.804849</td>\n",
       "      <td>0.00000</td>\n",
       "    </tr>\n",
       "    <tr>\n",
       "      <th>2</th>\n",
       "      <td>3</td>\n",
       "      <td>9530.246774</td>\n",
       "      <td>1425.223309</td>\n",
       "      <td>164.704341</td>\n",
       "      <td>4722.442315</td>\n",
       "      <td>314.622214</td>\n",
       "      <td>0.00000</td>\n",
       "    </tr>\n",
       "    <tr>\n",
       "      <th>3</th>\n",
       "      <td>4</td>\n",
       "      <td>9531.818537</td>\n",
       "      <td>1423.511928</td>\n",
       "      <td>164.179898</td>\n",
       "      <td>4684.545561</td>\n",
       "      <td>289.973797</td>\n",
       "      <td>0.00000</td>\n",
       "    </tr>\n",
       "    <tr>\n",
       "      <th>4</th>\n",
       "      <td>5</td>\n",
       "      <td>9535.267110</td>\n",
       "      <td>1425.863512</td>\n",
       "      <td>165.059836</td>\n",
       "      <td>4697.965976</td>\n",
       "      <td>323.253813</td>\n",
       "      <td>0.00000</td>\n",
       "    </tr>\n",
       "  </tbody>\n",
       "</table>\n",
       "</div>"
      ],
      "text/plain": [
       "   Hour          AES          TEC         VDE          TES         GES  \\\n",
       "0     1  9533.777865  1428.560813  164.178334  4883.335549  413.657020   \n",
       "1     2  9530.698084  1424.868987  164.754009  4772.738365  325.804849   \n",
       "2     3  9530.246774  1425.223309  164.704341  4722.442315  314.622214   \n",
       "3     4  9531.818537  1423.511928  164.179898  4684.545561  289.973797   \n",
       "4     5  9535.267110  1425.863512  165.059836  4697.965976  323.253813   \n",
       "\n",
       "   GAES_GEN  \n",
       "0   0.26711  \n",
       "1   0.00000  \n",
       "2   0.00000  \n",
       "3   0.00000  \n",
       "4   0.00000  "
      ]
     },
     "execution_count": 23,
     "metadata": {},
     "output_type": "execute_result"
    }
   ],
   "source": [
    "df3 = df.iloc[:, : 6]\n",
    "df3['Hour'] = df['Hour']\n",
    "\n",
    "df3 = df3.groupby('Hour').mean()\n",
    "df3 = df3.reset_index()\n",
    "df3.head()"
   ]
  },
  {
   "cell_type": "markdown",
   "metadata": {},
   "source": [
    "### 3. Зміна генерації електроенергії з різних джерел впродовж доби"
   ]
  },
  {
   "cell_type": "markdown",
   "metadata": {},
   "source": [
    "В цьому випадку я вирішила обрати Bar Chart. За допомогою стовпчиків можна легко зобразити скільки загалом генерується електроенергії в різний час доби.\n",
    "Зручно порівнювати кількість генерованої енергії з різних джерел впродовж дня. Знову ж таки, як і в першому завданні можна побачити зміну в часі та частики в цілому. Мінусом є те, що може бути важко порівнювати кількість генерації енергії певного джерела в різні години.\n",
    "\n",
    "Як і в першому завданні можна також було використовувати Area plot."
   ]
  },
  {
   "cell_type": "code",
   "execution_count": 24,
   "metadata": {},
   "outputs": [],
   "source": [
    "c3 = alt.Chart(df3).transform_fold(\n",
    "    ['AES', 'TEC', 'VDE', 'TES', 'GES','GAES_GEN'], as_ = ['Source', 'Amount']).mark_bar().encode(\n",
    "    alt.X('Hour:N'),\n",
    "    alt.Y('Amount:Q'),\n",
    "    alt.Color('Source:N'),\n",
    "    tooltip = alt.Tooltip('Amount:Q')\n",
    ").properties(title=\"Зміна генерації електроенергії з різних джерел впродовж доби\", width = 950, height = 500, background = '#F9F9F9', padding = 25)"
   ]
  },
  {
   "cell_type": "code",
   "execution_count": 25,
   "metadata": {},
   "outputs": [
    {
     "name": "stdout",
     "output_type": "stream",
     "text": [
      "Displaying chart at http://localhost:18632/\n"
     ]
    }
   ],
   "source": [
    "c3.show()"
   ]
  },
  {
   "cell_type": "markdown",
   "metadata": {},
   "source": [
    "### 4. Як змінюється споживання електроенергії впродовж доби у розрізі місяців року та пір року?"
   ]
  },
  {
   "cell_type": "markdown",
   "metadata": {},
   "source": [
    "Щоб відповісти на дане питання, я зробила два графіки: Heat map впродовж доби у розрізі місяців року та впродовж доби у розрізі пір року.\n",
    "Другий графік певним чином узагальнює перший. \n",
    "Також це запитання дуже схоже до другого завдання, саме тому для мене було зручно використовувати знову такий тип візуалізації."
   ]
  },
  {
   "cell_type": "code",
   "execution_count": 26,
   "metadata": {},
   "outputs": [
    {
     "name": "stderr",
     "output_type": "stream",
     "text": [
      "/home/alina/anaconda3/lib/python3.6/site-packages/ipykernel_launcher.py:2: SettingWithCopyWarning: \n",
      "A value is trying to be set on a copy of a slice from a DataFrame.\n",
      "Try using .loc[row_indexer,col_indexer] = value instead\n",
      "\n",
      "See the caveats in the documentation: https://pandas.pydata.org/pandas-docs/stable/user_guide/indexing.html#returning-a-view-versus-a-copy\n",
      "  \n"
     ]
    },
    {
     "data": {
      "text/html": [
       "<div>\n",
       "<style scoped>\n",
       "    .dataframe tbody tr th:only-of-type {\n",
       "        vertical-align: middle;\n",
       "    }\n",
       "\n",
       "    .dataframe tbody tr th {\n",
       "        vertical-align: top;\n",
       "    }\n",
       "\n",
       "    .dataframe thead th {\n",
       "        text-align: right;\n",
       "    }\n",
       "</style>\n",
       "<table border=\"1\" class=\"dataframe\">\n",
       "  <thead>\n",
       "    <tr style=\"text-align: right;\">\n",
       "      <th></th>\n",
       "      <th>Date_Time</th>\n",
       "      <th>Hour</th>\n",
       "      <th>CONSUMPTION</th>\n",
       "      <th>month_name</th>\n",
       "    </tr>\n",
       "  </thead>\n",
       "  <tbody>\n",
       "    <tr>\n",
       "      <th>0</th>\n",
       "      <td>2021-01-01 00:00:00</td>\n",
       "      <td>24</td>\n",
       "      <td>16693</td>\n",
       "      <td>January</td>\n",
       "    </tr>\n",
       "    <tr>\n",
       "      <th>1</th>\n",
       "      <td>2020-12-31 23:00:00</td>\n",
       "      <td>23</td>\n",
       "      <td>17805</td>\n",
       "      <td>December</td>\n",
       "    </tr>\n",
       "    <tr>\n",
       "      <th>2</th>\n",
       "      <td>2020-12-31 22:00:00</td>\n",
       "      <td>22</td>\n",
       "      <td>18870</td>\n",
       "      <td>December</td>\n",
       "    </tr>\n",
       "    <tr>\n",
       "      <th>3</th>\n",
       "      <td>2020-12-31 21:00:00</td>\n",
       "      <td>21</td>\n",
       "      <td>19887</td>\n",
       "      <td>December</td>\n",
       "    </tr>\n",
       "    <tr>\n",
       "      <th>4</th>\n",
       "      <td>2020-12-31 20:00:00</td>\n",
       "      <td>20</td>\n",
       "      <td>20387</td>\n",
       "      <td>December</td>\n",
       "    </tr>\n",
       "    <tr>\n",
       "      <th>...</th>\n",
       "      <td>...</td>\n",
       "      <td>...</td>\n",
       "      <td>...</td>\n",
       "      <td>...</td>\n",
       "    </tr>\n",
       "    <tr>\n",
       "      <th>61363</th>\n",
       "      <td>2014-01-01 05:00:00</td>\n",
       "      <td>5</td>\n",
       "      <td>18072</td>\n",
       "      <td>January</td>\n",
       "    </tr>\n",
       "    <tr>\n",
       "      <th>61364</th>\n",
       "      <td>2014-01-01 04:00:00</td>\n",
       "      <td>4</td>\n",
       "      <td>18453</td>\n",
       "      <td>January</td>\n",
       "    </tr>\n",
       "    <tr>\n",
       "      <th>61365</th>\n",
       "      <td>2014-01-01 03:00:00</td>\n",
       "      <td>3</td>\n",
       "      <td>19107</td>\n",
       "      <td>January</td>\n",
       "    </tr>\n",
       "    <tr>\n",
       "      <th>61366</th>\n",
       "      <td>2014-01-01 02:00:00</td>\n",
       "      <td>2</td>\n",
       "      <td>19665</td>\n",
       "      <td>January</td>\n",
       "    </tr>\n",
       "    <tr>\n",
       "      <th>61367</th>\n",
       "      <td>2014-01-01 01:00:00</td>\n",
       "      <td>1</td>\n",
       "      <td>20586</td>\n",
       "      <td>January</td>\n",
       "    </tr>\n",
       "  </tbody>\n",
       "</table>\n",
       "<p>61368 rows × 4 columns</p>\n",
       "</div>"
      ],
      "text/plain": [
       "                Date_Time  Hour  CONSUMPTION month_name\n",
       "0     2021-01-01 00:00:00    24        16693    January\n",
       "1     2020-12-31 23:00:00    23        17805   December\n",
       "2     2020-12-31 22:00:00    22        18870   December\n",
       "3     2020-12-31 21:00:00    21        19887   December\n",
       "4     2020-12-31 20:00:00    20        20387   December\n",
       "...                   ...   ...          ...        ...\n",
       "61363 2014-01-01 05:00:00     5        18072    January\n",
       "61364 2014-01-01 04:00:00     4        18453    January\n",
       "61365 2014-01-01 03:00:00     3        19107    January\n",
       "61366 2014-01-01 02:00:00     2        19665    January\n",
       "61367 2014-01-01 01:00:00     1        20586    January\n",
       "\n",
       "[61368 rows x 4 columns]"
      ]
     },
     "execution_count": 26,
     "metadata": {},
     "output_type": "execute_result"
    }
   ],
   "source": [
    "df4 = df[['Date_Time','Hour','CONSUMPTION']]\n",
    "df4['month_name'] = df['Date_Time'].dt.month_name()\n",
    "df4"
   ]
  },
  {
   "cell_type": "code",
   "execution_count": 27,
   "metadata": {},
   "outputs": [
    {
     "name": "stderr",
     "output_type": "stream",
     "text": [
      "/home/alina/anaconda3/lib/python3.6/site-packages/ipykernel_launcher.py:2: SettingWithCopyWarning: \n",
      "A value is trying to be set on a copy of a slice from a DataFrame.\n",
      "Try using .loc[row_indexer,col_indexer] = value instead\n",
      "\n",
      "See the caveats in the documentation: https://pandas.pydata.org/pandas-docs/stable/user_guide/indexing.html#returning-a-view-versus-a-copy\n",
      "  \n"
     ]
    }
   ],
   "source": [
    "df4_1 = df4\n",
    "df4_1['season'] = '-'"
   ]
  },
  {
   "cell_type": "code",
   "execution_count": 28,
   "metadata": {},
   "outputs": [
    {
     "name": "stderr",
     "output_type": "stream",
     "text": [
      "/home/alina/anaconda3/lib/python3.6/site-packages/ipykernel_launcher.py:3: SettingWithCopyWarning: \n",
      "A value is trying to be set on a copy of a slice from a DataFrame\n",
      "\n",
      "See the caveats in the documentation: https://pandas.pydata.org/pandas-docs/stable/user_guide/indexing.html#returning-a-view-versus-a-copy\n",
      "  This is separate from the ipykernel package so we can avoid doing imports until\n",
      "/home/alina/anaconda3/lib/python3.6/site-packages/IPython/core/interactiveshell.py:2963: SettingWithCopyWarning: \n",
      "A value is trying to be set on a copy of a slice from a DataFrame\n",
      "\n",
      "See the caveats in the documentation: https://pandas.pydata.org/pandas-docs/stable/user_guide/indexing.html#returning-a-view-versus-a-copy\n",
      "  exec(code_obj, self.user_global_ns, self.user_ns)\n",
      "/home/alina/anaconda3/lib/python3.6/site-packages/ipykernel_launcher.py:9: SettingWithCopyWarning: \n",
      "A value is trying to be set on a copy of a slice from a DataFrame\n",
      "\n",
      "See the caveats in the documentation: https://pandas.pydata.org/pandas-docs/stable/user_guide/indexing.html#returning-a-view-versus-a-copy\n",
      "  if __name__ == '__main__':\n",
      "/home/alina/anaconda3/lib/python3.6/site-packages/ipykernel_launcher.py:7: SettingWithCopyWarning: \n",
      "A value is trying to be set on a copy of a slice from a DataFrame\n",
      "\n",
      "See the caveats in the documentation: https://pandas.pydata.org/pandas-docs/stable/user_guide/indexing.html#returning-a-view-versus-a-copy\n",
      "  import sys\n",
      "/home/alina/anaconda3/lib/python3.6/site-packages/ipykernel_launcher.py:5: SettingWithCopyWarning: \n",
      "A value is trying to be set on a copy of a slice from a DataFrame\n",
      "\n",
      "See the caveats in the documentation: https://pandas.pydata.org/pandas-docs/stable/user_guide/indexing.html#returning-a-view-versus-a-copy\n",
      "  \"\"\"\n"
     ]
    }
   ],
   "source": [
    "for i in range(len(df4_1['month_name'])):\n",
    "    if df4_1['month_name'][i] == 'January' or df4_1['month_name'][i] == 'February' or df4_1['month_name'][i] == 'December':\n",
    "        df4_1['season'][i] = 'Winter'\n",
    "    elif df4_1['month_name'][i] == 'March' or df4_1['month_name'][i] == 'April' or df4_1['month_name'][i] == 'May':\n",
    "        df4_1['season'][i] = 'Spring'\n",
    "    elif df4_1['month_name'][i] == 'June' or df4_1['month_name'][i] == 'July' or df4_1['month_name'][i] == 'August':\n",
    "        df4_1['season'][i] = 'Summer'\n",
    "    elif df4_1['month_name'][i] == 'September' or df4_1['month_name'][i] == 'October' or df4_1['month_name'][i] == 'November':\n",
    "        df4_1['season'][i] = 'Autumn'"
   ]
  },
  {
   "cell_type": "code",
   "execution_count": 29,
   "metadata": {},
   "outputs": [
    {
     "data": {
      "text/html": [
       "<div>\n",
       "<style scoped>\n",
       "    .dataframe tbody tr th:only-of-type {\n",
       "        vertical-align: middle;\n",
       "    }\n",
       "\n",
       "    .dataframe tbody tr th {\n",
       "        vertical-align: top;\n",
       "    }\n",
       "\n",
       "    .dataframe thead th {\n",
       "        text-align: right;\n",
       "    }\n",
       "</style>\n",
       "<table border=\"1\" class=\"dataframe\">\n",
       "  <thead>\n",
       "    <tr style=\"text-align: right;\">\n",
       "      <th></th>\n",
       "      <th>Date_Time</th>\n",
       "      <th>Hour</th>\n",
       "      <th>CONSUMPTION</th>\n",
       "      <th>month_name</th>\n",
       "      <th>season</th>\n",
       "    </tr>\n",
       "  </thead>\n",
       "  <tbody>\n",
       "    <tr>\n",
       "      <th>0</th>\n",
       "      <td>2021-01-01 00:00:00</td>\n",
       "      <td>24</td>\n",
       "      <td>16693</td>\n",
       "      <td>January</td>\n",
       "      <td>Winter</td>\n",
       "    </tr>\n",
       "    <tr>\n",
       "      <th>1</th>\n",
       "      <td>2020-12-31 23:00:00</td>\n",
       "      <td>23</td>\n",
       "      <td>17805</td>\n",
       "      <td>December</td>\n",
       "      <td>Winter</td>\n",
       "    </tr>\n",
       "    <tr>\n",
       "      <th>2</th>\n",
       "      <td>2020-12-31 22:00:00</td>\n",
       "      <td>22</td>\n",
       "      <td>18870</td>\n",
       "      <td>December</td>\n",
       "      <td>Winter</td>\n",
       "    </tr>\n",
       "    <tr>\n",
       "      <th>3</th>\n",
       "      <td>2020-12-31 21:00:00</td>\n",
       "      <td>21</td>\n",
       "      <td>19887</td>\n",
       "      <td>December</td>\n",
       "      <td>Winter</td>\n",
       "    </tr>\n",
       "    <tr>\n",
       "      <th>4</th>\n",
       "      <td>2020-12-31 20:00:00</td>\n",
       "      <td>20</td>\n",
       "      <td>20387</td>\n",
       "      <td>December</td>\n",
       "      <td>Winter</td>\n",
       "    </tr>\n",
       "    <tr>\n",
       "      <th>...</th>\n",
       "      <td>...</td>\n",
       "      <td>...</td>\n",
       "      <td>...</td>\n",
       "      <td>...</td>\n",
       "      <td>...</td>\n",
       "    </tr>\n",
       "    <tr>\n",
       "      <th>61363</th>\n",
       "      <td>2014-01-01 05:00:00</td>\n",
       "      <td>5</td>\n",
       "      <td>18072</td>\n",
       "      <td>January</td>\n",
       "      <td>Winter</td>\n",
       "    </tr>\n",
       "    <tr>\n",
       "      <th>61364</th>\n",
       "      <td>2014-01-01 04:00:00</td>\n",
       "      <td>4</td>\n",
       "      <td>18453</td>\n",
       "      <td>January</td>\n",
       "      <td>Winter</td>\n",
       "    </tr>\n",
       "    <tr>\n",
       "      <th>61365</th>\n",
       "      <td>2014-01-01 03:00:00</td>\n",
       "      <td>3</td>\n",
       "      <td>19107</td>\n",
       "      <td>January</td>\n",
       "      <td>Winter</td>\n",
       "    </tr>\n",
       "    <tr>\n",
       "      <th>61366</th>\n",
       "      <td>2014-01-01 02:00:00</td>\n",
       "      <td>2</td>\n",
       "      <td>19665</td>\n",
       "      <td>January</td>\n",
       "      <td>Winter</td>\n",
       "    </tr>\n",
       "    <tr>\n",
       "      <th>61367</th>\n",
       "      <td>2014-01-01 01:00:00</td>\n",
       "      <td>1</td>\n",
       "      <td>20586</td>\n",
       "      <td>January</td>\n",
       "      <td>Winter</td>\n",
       "    </tr>\n",
       "  </tbody>\n",
       "</table>\n",
       "<p>61368 rows × 5 columns</p>\n",
       "</div>"
      ],
      "text/plain": [
       "                Date_Time  Hour  CONSUMPTION month_name  season\n",
       "0     2021-01-01 00:00:00    24        16693    January  Winter\n",
       "1     2020-12-31 23:00:00    23        17805   December  Winter\n",
       "2     2020-12-31 22:00:00    22        18870   December  Winter\n",
       "3     2020-12-31 21:00:00    21        19887   December  Winter\n",
       "4     2020-12-31 20:00:00    20        20387   December  Winter\n",
       "...                   ...   ...          ...        ...     ...\n",
       "61363 2014-01-01 05:00:00     5        18072    January  Winter\n",
       "61364 2014-01-01 04:00:00     4        18453    January  Winter\n",
       "61365 2014-01-01 03:00:00     3        19107    January  Winter\n",
       "61366 2014-01-01 02:00:00     2        19665    January  Winter\n",
       "61367 2014-01-01 01:00:00     1        20586    January  Winter\n",
       "\n",
       "[61368 rows x 5 columns]"
      ]
     },
     "execution_count": 29,
     "metadata": {},
     "output_type": "execute_result"
    }
   ],
   "source": [
    "#df4_1 = df4.groupby(['Hour', 'season']).mean()['CONSUMPTION'].reset_index()\n",
    "df4_1"
   ]
  },
  {
   "cell_type": "code",
   "execution_count": 30,
   "metadata": {},
   "outputs": [],
   "source": [
    "c4 = alt.Chart(df4).mark_rect().encode(\n",
    "    x = alt.X('month(Date_Time):O'),\n",
    "    y = alt.Y('hours(Date_Time):O'),\n",
    "    color = alt.Color('CONSUMPTION:Q', title='Consumption', scale = alt.Scale(domain =[17000,27000])),\n",
    "    tooltip = alt.Tooltip('CONSUMPTION:Q')\n",
    ").properties(title=\"Зміна споживання електроенергії впродовж доби у розрізі місяців року\",\n",
    "             width = 950, height = 500, background = '#F9F9F9', padding = 25)"
   ]
  },
  {
   "cell_type": "code",
   "execution_count": 31,
   "metadata": {},
   "outputs": [
    {
     "name": "stdout",
     "output_type": "stream",
     "text": [
      "Displaying chart at http://localhost:18632/\n"
     ]
    }
   ],
   "source": [
    "c4.show()"
   ]
  },
  {
   "cell_type": "code",
   "execution_count": 32,
   "metadata": {},
   "outputs": [],
   "source": [
    "c4_1 = alt.Chart(df4_1).mark_rect().encode(\n",
    "    x = alt.X('season:O'),\n",
    "    y = alt.Y('hours(Date_Time):O'),\n",
    "    color = alt.Color('CONSUMPTION:Q', title='Consumption', scale = alt.Scale(domain = [17000,27000])),\n",
    "    tooltip = alt.Tooltip('CONSUMPTION:Q')\n",
    ").properties(title=\"Зміна споживання електроенергії впродовж доби у розрізі пір року\",\n",
    "             width = 950, height = 500, background = '#F9F9F9', padding = 25)"
   ]
  },
  {
   "cell_type": "code",
   "execution_count": 33,
   "metadata": {},
   "outputs": [
    {
     "name": "stdout",
     "output_type": "stream",
     "text": [
      "Displaying chart at http://localhost:18632/\n"
     ]
    }
   ],
   "source": [
    "c4_1.show()"
   ]
  },
  {
   "cell_type": "markdown",
   "metadata": {},
   "source": [
    "### 5. Як змінюється споживання електроенергії впродовж тижня?"
   ]
  },
  {
   "cell_type": "markdown",
   "metadata": {},
   "source": [
    "Для цього завдання, я обрала візуалізацію Bar Chart.  \n",
    "За допомогою стовпчиків дуже зручно порівнювати кількість споживаня енергії в різні дні протягом всього тижня.\n",
    "\n",
    "Також можна було використовувати звичайний лінійний графік, проте за допомогою Bar Chart зручніше прослідкувати точну кількість спожитої електроенергії в конкретний день.\n"
   ]
  },
  {
   "cell_type": "code",
   "execution_count": 35,
   "metadata": {},
   "outputs": [
    {
     "name": "stderr",
     "output_type": "stream",
     "text": [
      "/home/alina/anaconda3/lib/python3.6/site-packages/ipykernel_launcher.py:2: SettingWithCopyWarning: \n",
      "A value is trying to be set on a copy of a slice from a DataFrame.\n",
      "Try using .loc[row_indexer,col_indexer] = value instead\n",
      "\n",
      "See the caveats in the documentation: https://pandas.pydata.org/pandas-docs/stable/user_guide/indexing.html#returning-a-view-versus-a-copy\n",
      "  \n",
      "/home/alina/anaconda3/lib/python3.6/site-packages/ipykernel_launcher.py:3: SettingWithCopyWarning: \n",
      "A value is trying to be set on a copy of a slice from a DataFrame.\n",
      "Try using .loc[row_indexer,col_indexer] = value instead\n",
      "\n",
      "See the caveats in the documentation: https://pandas.pydata.org/pandas-docs/stable/user_guide/indexing.html#returning-a-view-versus-a-copy\n",
      "  This is separate from the ipykernel package so we can avoid doing imports until\n"
     ]
    }
   ],
   "source": [
    "df5 = df[['CONSUMPTION']]\n",
    "df5['weekday'] = df['Date_Time'].dt.day_name()\n",
    "df5['weekday_num'] = df['Date_Time'].dt.weekday"
   ]
  },
  {
   "cell_type": "code",
   "execution_count": 36,
   "metadata": {},
   "outputs": [
    {
     "data": {
      "text/html": [
       "<div>\n",
       "<style scoped>\n",
       "    .dataframe tbody tr th:only-of-type {\n",
       "        vertical-align: middle;\n",
       "    }\n",
       "\n",
       "    .dataframe tbody tr th {\n",
       "        vertical-align: top;\n",
       "    }\n",
       "\n",
       "    .dataframe thead th {\n",
       "        text-align: right;\n",
       "    }\n",
       "</style>\n",
       "<table border=\"1\" class=\"dataframe\">\n",
       "  <thead>\n",
       "    <tr style=\"text-align: right;\">\n",
       "      <th></th>\n",
       "      <th>weekday</th>\n",
       "      <th>CONSUMPTION</th>\n",
       "      <th>weekday_num</th>\n",
       "    </tr>\n",
       "  </thead>\n",
       "  <tbody>\n",
       "    <tr>\n",
       "      <th>0</th>\n",
       "      <td>Friday</td>\n",
       "      <td>17222.356923</td>\n",
       "      <td>4.0</td>\n",
       "    </tr>\n",
       "    <tr>\n",
       "      <th>1</th>\n",
       "      <td>Monday</td>\n",
       "      <td>17107.303425</td>\n",
       "      <td>0.0</td>\n",
       "    </tr>\n",
       "    <tr>\n",
       "      <th>2</th>\n",
       "      <td>Saturday</td>\n",
       "      <td>16823.421575</td>\n",
       "      <td>5.0</td>\n",
       "    </tr>\n",
       "    <tr>\n",
       "      <th>3</th>\n",
       "      <td>Sunday</td>\n",
       "      <td>16550.352169</td>\n",
       "      <td>6.0</td>\n",
       "    </tr>\n",
       "    <tr>\n",
       "      <th>4</th>\n",
       "      <td>Thursday</td>\n",
       "      <td>17293.883766</td>\n",
       "      <td>3.0</td>\n",
       "    </tr>\n",
       "    <tr>\n",
       "      <th>5</th>\n",
       "      <td>Tuesday</td>\n",
       "      <td>17230.552511</td>\n",
       "      <td>1.0</td>\n",
       "    </tr>\n",
       "    <tr>\n",
       "      <th>6</th>\n",
       "      <td>Wednesday</td>\n",
       "      <td>17274.907093</td>\n",
       "      <td>2.0</td>\n",
       "    </tr>\n",
       "  </tbody>\n",
       "</table>\n",
       "</div>"
      ],
      "text/plain": [
       "     weekday   CONSUMPTION  weekday_num\n",
       "0     Friday  17222.356923          4.0\n",
       "1     Monday  17107.303425          0.0\n",
       "2   Saturday  16823.421575          5.0\n",
       "3     Sunday  16550.352169          6.0\n",
       "4   Thursday  17293.883766          3.0\n",
       "5    Tuesday  17230.552511          1.0\n",
       "6  Wednesday  17274.907093          2.0"
      ]
     },
     "execution_count": 36,
     "metadata": {},
     "output_type": "execute_result"
    }
   ],
   "source": [
    "df5 = df5.groupby('weekday').mean()\n",
    "df5 = df5.reset_index()\n",
    "df5"
   ]
  },
  {
   "cell_type": "code",
   "execution_count": 37,
   "metadata": {},
   "outputs": [],
   "source": [
    "c5 = alt.Chart(df5).mark_bar().encode(\n",
    "    alt.X('weekday:O', title='Day of week', sort = alt.Sort(field = 'weekday_num', order = 'ascending')),\n",
    "    alt.Y('CONSUMPTION:Q', title='Consumption', \n",
    "          scale = alt.Scale(zero = False)),\n",
    "     color = alt.Color('CONSUMPTION:Q', title='Consumption', scale = alt.Scale(scheme = 'greenblue')),\n",
    "    tooltip = alt.Tooltip('CONSUMPTION:Q')\n",
    ").properties(title=\"Зміна споживання електроенергії впродовж тижня\", width = 950, height = 500, background = '#F9F9F9', padding = 25)"
   ]
  },
  {
   "cell_type": "code",
   "execution_count": 38,
   "metadata": {},
   "outputs": [
    {
     "name": "stdout",
     "output_type": "stream",
     "text": [
      "Displaying chart at http://localhost:18632/\n"
     ]
    }
   ],
   "source": [
    "c5.show()"
   ]
  },
  {
   "cell_type": "code",
   "execution_count": null,
   "metadata": {},
   "outputs": [],
   "source": []
  }
 ],
 "metadata": {
  "kernelspec": {
   "display_name": "Python 3",
   "language": "python",
   "name": "python3"
  },
  "language_info": {
   "codemirror_mode": {
    "name": "ipython",
    "version": 3
   },
   "file_extension": ".py",
   "mimetype": "text/x-python",
   "name": "python",
   "nbconvert_exporter": "python",
   "pygments_lexer": "ipython3",
   "version": "3.6.5"
  }
 },
 "nbformat": 4,
 "nbformat_minor": 2
}
