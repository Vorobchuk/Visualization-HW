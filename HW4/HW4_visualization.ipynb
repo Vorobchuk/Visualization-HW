{
 "cells": [
  {
   "cell_type": "markdown",
   "metadata": {},
   "source": [
    "- карта, котра відображає рівень приросту / скорочення населення за регіонами станом на останній доступний рік\n",
    "\n",
    "- лінійний графік, котрий відображає рівень приросту / скорочення населення за регіонами за всіма роками (одна лінія на графіку - один регіон)"
   ]
  },
  {
   "cell_type": "code",
   "execution_count": 2,
   "metadata": {},
   "outputs": [],
   "source": [
    "import pandas as pd\n",
    "import altair as alt\n",
    "import geopandas as gpd"
   ]
  },
  {
   "cell_type": "code",
   "execution_count": 3,
   "metadata": {},
   "outputs": [
    {
     "data": {
      "text/html": [
       "<div>\n",
       "<style scoped>\n",
       "    .dataframe tbody tr th:only-of-type {\n",
       "        vertical-align: middle;\n",
       "    }\n",
       "\n",
       "    .dataframe tbody tr th {\n",
       "        vertical-align: top;\n",
       "    }\n",
       "\n",
       "    .dataframe thead th {\n",
       "        text-align: right;\n",
       "    }\n",
       "</style>\n",
       "<table border=\"1\" class=\"dataframe\">\n",
       "  <thead>\n",
       "    <tr style=\"text-align: right;\">\n",
       "      <th></th>\n",
       "      <th>region</th>\n",
       "      <th>year</th>\n",
       "      <th>rate</th>\n",
       "    </tr>\n",
       "  </thead>\n",
       "  <tbody>\n",
       "    <tr>\n",
       "      <th>31</th>\n",
       "      <td>Crimea</td>\n",
       "      <td>1989</td>\n",
       "      <td>3.9</td>\n",
       "    </tr>\n",
       "    <tr>\n",
       "      <th>32</th>\n",
       "      <td>Crimea</td>\n",
       "      <td>1990</td>\n",
       "      <td>2.5</td>\n",
       "    </tr>\n",
       "    <tr>\n",
       "      <th>33</th>\n",
       "      <td>Crimea</td>\n",
       "      <td>1991</td>\n",
       "      <td>0.9</td>\n",
       "    </tr>\n",
       "    <tr>\n",
       "      <th>34</th>\n",
       "      <td>Crimea</td>\n",
       "      <td>1992</td>\n",
       "      <td>-0.7</td>\n",
       "    </tr>\n",
       "    <tr>\n",
       "      <th>35</th>\n",
       "      <td>Crimea</td>\n",
       "      <td>1993</td>\n",
       "      <td>-2.7</td>\n",
       "    </tr>\n",
       "  </tbody>\n",
       "</table>\n",
       "</div>"
      ],
      "text/plain": [
       "    region  year  rate\n",
       "31  Crimea  1989   3.9\n",
       "32  Crimea  1990   2.5\n",
       "33  Crimea  1991   0.9\n",
       "34  Crimea  1992  -0.7\n",
       "35  Crimea  1993  -2.7"
      ]
     },
     "execution_count": 3,
     "metadata": {},
     "output_type": "execute_result"
    }
   ],
   "source": [
    "df = pd.read_csv('population_trends.csv')\n",
    "df = df[df.region != 'Ukraine']\n",
    "df.head()"
   ]
  },
  {
   "cell_type": "code",
   "execution_count": 4,
   "metadata": {},
   "outputs": [
    {
     "data": {
      "text/plain": [
       "2019"
      ]
     },
     "execution_count": 4,
     "metadata": {},
     "output_type": "execute_result"
    }
   ],
   "source": [
    "df['year'].max()"
   ]
  },
  {
   "cell_type": "code",
   "execution_count": 5,
   "metadata": {},
   "outputs": [
    {
     "data": {
      "text/html": [
       "<div>\n",
       "<style scoped>\n",
       "    .dataframe tbody tr th:only-of-type {\n",
       "        vertical-align: middle;\n",
       "    }\n",
       "\n",
       "    .dataframe tbody tr th {\n",
       "        vertical-align: top;\n",
       "    }\n",
       "\n",
       "    .dataframe thead th {\n",
       "        text-align: right;\n",
       "    }\n",
       "</style>\n",
       "<table border=\"1\" class=\"dataframe\">\n",
       "  <thead>\n",
       "    <tr style=\"text-align: right;\">\n",
       "      <th></th>\n",
       "      <th>GID_0</th>\n",
       "      <th>NAME_0</th>\n",
       "      <th>GID_1</th>\n",
       "      <th>NAME_1</th>\n",
       "      <th>VARNAME_1</th>\n",
       "      <th>NL_NAME_1</th>\n",
       "      <th>TYPE_1</th>\n",
       "      <th>ENGTYPE_1</th>\n",
       "      <th>CC_1</th>\n",
       "      <th>HASC_1</th>\n",
       "      <th>geometry</th>\n",
       "    </tr>\n",
       "  </thead>\n",
       "  <tbody>\n",
       "    <tr>\n",
       "      <th>0</th>\n",
       "      <td>UKR</td>\n",
       "      <td>Ukraine</td>\n",
       "      <td>UKR.1_1</td>\n",
       "      <td>Cherkasy</td>\n",
       "      <td>Cherkas'ka Oblast'|Cherkasskaya Oblast'|Cherkassy</td>\n",
       "      <td>None</td>\n",
       "      <td>Oblast'</td>\n",
       "      <td>Region</td>\n",
       "      <td>None</td>\n",
       "      <td>UA.CK</td>\n",
       "      <td>MULTIPOLYGON (((31.32614 48.74507, 31.31716 48...</td>\n",
       "    </tr>\n",
       "    <tr>\n",
       "      <th>1</th>\n",
       "      <td>UKR</td>\n",
       "      <td>Ukraine</td>\n",
       "      <td>UKR.2_1</td>\n",
       "      <td>Chernihiv</td>\n",
       "      <td>Chernigov|Tschernigow</td>\n",
       "      <td>None</td>\n",
       "      <td>Oblast'</td>\n",
       "      <td>Region</td>\n",
       "      <td>None</td>\n",
       "      <td>UA.CH</td>\n",
       "      <td>MULTIPOLYGON (((33.09283 50.50966, 33.09261 50...</td>\n",
       "    </tr>\n",
       "    <tr>\n",
       "      <th>2</th>\n",
       "      <td>UKR</td>\n",
       "      <td>Ukraine</td>\n",
       "      <td>UKR.3_1</td>\n",
       "      <td>Chernivtsi</td>\n",
       "      <td>Chernivets'ka Oblast'|Chernovitskaya Oblast'|C...</td>\n",
       "      <td>None</td>\n",
       "      <td>Oblast'</td>\n",
       "      <td>Region</td>\n",
       "      <td>None</td>\n",
       "      <td>UA.CV</td>\n",
       "      <td>MULTIPOLYGON (((24.93280 47.72794, 24.93301 47...</td>\n",
       "    </tr>\n",
       "    <tr>\n",
       "      <th>3</th>\n",
       "      <td>UKR</td>\n",
       "      <td>Ukraine</td>\n",
       "      <td>UKR.4_1</td>\n",
       "      <td>Crimea</td>\n",
       "      <td>Crimée|Criméia|Krim|Krymskaya Respublika|Respu...</td>\n",
       "      <td>None</td>\n",
       "      <td>Autonomous Republic</td>\n",
       "      <td>Autonomous Republic</td>\n",
       "      <td>None</td>\n",
       "      <td>UA.KR</td>\n",
       "      <td>MULTIPOLYGON (((33.79291 44.39153, 33.79465 44...</td>\n",
       "    </tr>\n",
       "    <tr>\n",
       "      <th>4</th>\n",
       "      <td>UKR</td>\n",
       "      <td>Ukraine</td>\n",
       "      <td>UKR.5_1</td>\n",
       "      <td>Dnipropetrovs'k</td>\n",
       "      <td>Dnipropetrovsk|Dniepropietrovsk|Dnjepropetrowsk</td>\n",
       "      <td>None</td>\n",
       "      <td>Oblast'</td>\n",
       "      <td>Region</td>\n",
       "      <td>None</td>\n",
       "      <td>UA.DP</td>\n",
       "      <td>MULTIPOLYGON (((33.93176 47.48407, 33.92332 47...</td>\n",
       "    </tr>\n",
       "  </tbody>\n",
       "</table>\n",
       "</div>"
      ],
      "text/plain": [
       "  GID_0   NAME_0    GID_1           NAME_1  \\\n",
       "0   UKR  Ukraine  UKR.1_1         Cherkasy   \n",
       "1   UKR  Ukraine  UKR.2_1        Chernihiv   \n",
       "2   UKR  Ukraine  UKR.3_1       Chernivtsi   \n",
       "3   UKR  Ukraine  UKR.4_1           Crimea   \n",
       "4   UKR  Ukraine  UKR.5_1  Dnipropetrovs'k   \n",
       "\n",
       "                                           VARNAME_1 NL_NAME_1  \\\n",
       "0  Cherkas'ka Oblast'|Cherkasskaya Oblast'|Cherkassy      None   \n",
       "1                              Chernigov|Tschernigow      None   \n",
       "2  Chernivets'ka Oblast'|Chernovitskaya Oblast'|C...      None   \n",
       "3  Crimée|Criméia|Krim|Krymskaya Respublika|Respu...      None   \n",
       "4    Dnipropetrovsk|Dniepropietrovsk|Dnjepropetrowsk      None   \n",
       "\n",
       "                TYPE_1            ENGTYPE_1  CC_1 HASC_1  \\\n",
       "0              Oblast'               Region  None  UA.CK   \n",
       "1              Oblast'               Region  None  UA.CH   \n",
       "2              Oblast'               Region  None  UA.CV   \n",
       "3  Autonomous Republic  Autonomous Republic  None  UA.KR   \n",
       "4              Oblast'               Region  None  UA.DP   \n",
       "\n",
       "                                            geometry  \n",
       "0  MULTIPOLYGON (((31.32614 48.74507, 31.31716 48...  \n",
       "1  MULTIPOLYGON (((33.09283 50.50966, 33.09261 50...  \n",
       "2  MULTIPOLYGON (((24.93280 47.72794, 24.93301 47...  \n",
       "3  MULTIPOLYGON (((33.79291 44.39153, 33.79465 44...  \n",
       "4  MULTIPOLYGON (((33.93176 47.48407, 33.92332 47...  "
      ]
     },
     "execution_count": 5,
     "metadata": {},
     "output_type": "execute_result"
    }
   ],
   "source": [
    "ukraine_map = gpd.read_file('ukraine.json')\n",
    "ukraine_map.head()"
   ]
  },
  {
   "cell_type": "code",
   "execution_count": 6,
   "metadata": {},
   "outputs": [
    {
     "data": {
      "text/html": [
       "<div>\n",
       "<style scoped>\n",
       "    .dataframe tbody tr th:only-of-type {\n",
       "        vertical-align: middle;\n",
       "    }\n",
       "\n",
       "    .dataframe tbody tr th {\n",
       "        vertical-align: top;\n",
       "    }\n",
       "\n",
       "    .dataframe thead th {\n",
       "        text-align: right;\n",
       "    }\n",
       "</style>\n",
       "<table border=\"1\" class=\"dataframe\">\n",
       "  <thead>\n",
       "    <tr style=\"text-align: right;\">\n",
       "      <th></th>\n",
       "      <th>region</th>\n",
       "      <th>geometry</th>\n",
       "    </tr>\n",
       "  </thead>\n",
       "  <tbody>\n",
       "    <tr>\n",
       "      <th>0</th>\n",
       "      <td>Cherkasy</td>\n",
       "      <td>MULTIPOLYGON (((31.32614 48.74507, 31.31716 48...</td>\n",
       "    </tr>\n",
       "    <tr>\n",
       "      <th>1</th>\n",
       "      <td>Chernihiv</td>\n",
       "      <td>MULTIPOLYGON (((33.09283 50.50966, 33.09261 50...</td>\n",
       "    </tr>\n",
       "    <tr>\n",
       "      <th>2</th>\n",
       "      <td>Chernivtsi</td>\n",
       "      <td>MULTIPOLYGON (((24.93280 47.72794, 24.93301 47...</td>\n",
       "    </tr>\n",
       "    <tr>\n",
       "      <th>3</th>\n",
       "      <td>Crimea</td>\n",
       "      <td>MULTIPOLYGON (((33.79291 44.39153, 33.79465 44...</td>\n",
       "    </tr>\n",
       "    <tr>\n",
       "      <th>4</th>\n",
       "      <td>Dnipropetrovs'k</td>\n",
       "      <td>MULTIPOLYGON (((33.93176 47.48407, 33.92332 47...</td>\n",
       "    </tr>\n",
       "  </tbody>\n",
       "</table>\n",
       "</div>"
      ],
      "text/plain": [
       "            region                                           geometry\n",
       "0         Cherkasy  MULTIPOLYGON (((31.32614 48.74507, 31.31716 48...\n",
       "1        Chernihiv  MULTIPOLYGON (((33.09283 50.50966, 33.09261 50...\n",
       "2       Chernivtsi  MULTIPOLYGON (((24.93280 47.72794, 24.93301 47...\n",
       "3           Crimea  MULTIPOLYGON (((33.79291 44.39153, 33.79465 44...\n",
       "4  Dnipropetrovs'k  MULTIPOLYGON (((33.93176 47.48407, 33.92332 47..."
      ]
     },
     "execution_count": 6,
     "metadata": {},
     "output_type": "execute_result"
    }
   ],
   "source": [
    "ukraine_map = ukraine_map[['NAME_1', 'geometry']]\n",
    "ukraine_map = ukraine_map.rename(columns={'NAME_1': 'region'})\n",
    "ukraine_map.head()"
   ]
  },
  {
   "cell_type": "code",
   "execution_count": 7,
   "metadata": {},
   "outputs": [
    {
     "data": {
      "text/html": [
       "<div>\n",
       "<style scoped>\n",
       "    .dataframe tbody tr th:only-of-type {\n",
       "        vertical-align: middle;\n",
       "    }\n",
       "\n",
       "    .dataframe tbody tr th {\n",
       "        vertical-align: top;\n",
       "    }\n",
       "\n",
       "    .dataframe thead th {\n",
       "        text-align: right;\n",
       "    }\n",
       "</style>\n",
       "<table border=\"1\" class=\"dataframe\">\n",
       "  <thead>\n",
       "    <tr style=\"text-align: right;\">\n",
       "      <th></th>\n",
       "      <th>region</th>\n",
       "      <th>year</th>\n",
       "      <th>rate</th>\n",
       "    </tr>\n",
       "  </thead>\n",
       "  <tbody>\n",
       "    <tr>\n",
       "      <th>61</th>\n",
       "      <td>Crimea</td>\n",
       "      <td>2019</td>\n",
       "      <td>NaN</td>\n",
       "    </tr>\n",
       "    <tr>\n",
       "      <th>92</th>\n",
       "      <td>Vinnytsya</td>\n",
       "      <td>2019</td>\n",
       "      <td>-7.9</td>\n",
       "    </tr>\n",
       "    <tr>\n",
       "      <th>123</th>\n",
       "      <td>Volyn</td>\n",
       "      <td>2019</td>\n",
       "      <td>-2.8</td>\n",
       "    </tr>\n",
       "    <tr>\n",
       "      <th>154</th>\n",
       "      <td>Dnipropetrovs'k</td>\n",
       "      <td>2019</td>\n",
       "      <td>-8.9</td>\n",
       "    </tr>\n",
       "    <tr>\n",
       "      <th>185</th>\n",
       "      <td>Donets'k</td>\n",
       "      <td>2019</td>\n",
       "      <td>NaN</td>\n",
       "    </tr>\n",
       "  </tbody>\n",
       "</table>\n",
       "</div>"
      ],
      "text/plain": [
       "              region  year  rate\n",
       "61            Crimea  2019   NaN\n",
       "92         Vinnytsya  2019  -7.9\n",
       "123            Volyn  2019  -2.8\n",
       "154  Dnipropetrovs'k  2019  -8.9\n",
       "185         Donets'k  2019   NaN"
      ]
     },
     "execution_count": 7,
     "metadata": {},
     "output_type": "execute_result"
    }
   ],
   "source": [
    "df2019 = df.loc[df.year == 2019]\n",
    "df2019.head()"
   ]
  },
  {
   "cell_type": "code",
   "execution_count": 8,
   "metadata": {},
   "outputs": [],
   "source": [
    "basee = alt.Chart(ukraine_map).mark_geoshape(fill = 'lightgrey', stroke = 'grey').encode(tooltip = [alt.Tooltip('region:N')])\n",
    "base = basee.properties(width = 800, height = 500)"
   ]
  },
  {
   "cell_type": "code",
   "execution_count": 9,
   "metadata": {},
   "outputs": [
    {
     "name": "stdout",
     "output_type": "stream",
     "text": [
      "Displaying chart at http://localhost:20947/\n"
     ]
    }
   ],
   "source": [
    "base.show()"
   ]
  },
  {
   "cell_type": "code",
   "execution_count": 10,
   "metadata": {},
   "outputs": [],
   "source": [
    "line_chart = alt.Chart(df).mark_line().encode(\n",
    "    x = alt.X('year:Q',\n",
    "              axis = alt.Axis(format = \"1000f\")),\n",
    "    y = alt.Y('rate:Q'),\n",
    "    detail = alt.Detail('region:N'),\n",
    "    color=alt.value('grey'),\n",
    ").properties(title = \"Рівень приросту / скорочення населення за регіонами за всіма роками\",\n",
    "             width = 800, height = 600)"
   ]
  },
  {
   "cell_type": "code",
   "execution_count": 11,
   "metadata": {},
   "outputs": [
    {
     "name": "stdout",
     "output_type": "stream",
     "text": [
      "Displaying chart at http://localhost:20947/\n"
     ]
    }
   ],
   "source": [
    "line_chart.show()"
   ]
  },
  {
   "cell_type": "code",
   "execution_count": 12,
   "metadata": {},
   "outputs": [],
   "source": [
    "ukraine = alt.Chart(ukraine_map).transform_lookup(\n",
    "    lookup = 'region',\n",
    "    from_ = alt.LookupData(data = df2019, \n",
    "                           key = 'region',\n",
    "                           fields=['region', 'rate'])\n",
    ").mark_geoshape(stroke = 'grey').encode(\n",
    "    color = alt.Color('rate:Q', \n",
    "                      scale = alt.Scale(scheme = 'reds', reverse=True), \n",
    "                      title='Rate',\n",
    "                      legend=alt.Legend(\n",
    "                            orient = 'bottom-left',\n",
    "                            gradientLength = 250\n",
    "                            )),\n",
    "    tooltip = [\n",
    "        alt.Tooltip('region:N'),\n",
    "        alt.Tooltip('rate:N')]\n",
    ")\n",
    "\n",
    "rate_map = alt.layer(base, ukraine)\n",
    "rate_map = rate_map.properties(title = \"Рівень приросту / скорочення населення за регіонами станом на 2019 рік\",\n",
    "                               width = 800, height = 500)\n"
   ]
  },
  {
   "cell_type": "code",
   "execution_count": 13,
   "metadata": {},
   "outputs": [
    {
     "name": "stdout",
     "output_type": "stream",
     "text": [
      "Displaying chart at http://localhost:20947/\n"
     ]
    }
   ],
   "source": [
    "rate_map.show()"
   ]
  },
  {
   "cell_type": "code",
   "execution_count": 14,
   "metadata": {},
   "outputs": [],
   "source": [
    "final_chart = alt.hconcat(rate_map.properties(width = 800, height = 500), \n",
    "            line_chart.properties(width = 800, height = 500)).properties(background = '#F9F9F9', padding = 25).configure_concat(spacing = 0)"
   ]
  },
  {
   "cell_type": "code",
   "execution_count": 15,
   "metadata": {},
   "outputs": [
    {
     "name": "stdout",
     "output_type": "stream",
     "text": [
      "Displaying chart at http://localhost:20947/\n"
     ]
    }
   ],
   "source": [
    "final_chart.show()"
   ]
  },
  {
   "cell_type": "code",
   "execution_count": null,
   "metadata": {},
   "outputs": [],
   "source": []
  }
 ],
 "metadata": {
  "kernelspec": {
   "display_name": "Python 3",
   "language": "python",
   "name": "python3"
  },
  "language_info": {
   "codemirror_mode": {
    "name": "ipython",
    "version": 3
   },
   "file_extension": ".py",
   "mimetype": "text/x-python",
   "name": "python",
   "nbconvert_exporter": "python",
   "pygments_lexer": "ipython3",
   "version": "3.6.5"
  }
 },
 "nbformat": 4,
 "nbformat_minor": 2
}
