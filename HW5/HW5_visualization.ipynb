{
 "cells": [
  {
   "cell_type": "markdown",
   "metadata": {},
   "source": [
    "У попередньому завданні вам потрібно було створити:\n",
    "\n",
    "- карту, котра відображає рівень приросту / скорочення населення за регіонами станом на останній доступний рік;\n",
    "\n",
    "- лінійний графік, котрий відображає рівень приросту / скорочення населення за регіонами за всіма роками (одна лінія на графіку - один регіон).\n",
    "\n",
    "Для цього завдання вам потрібно налагодити інтеракцію між картою та графіком.\n",
    "\n",
    "При наведенні на якийсь регіон на карті він має виділятися на графіку за допомогою товщини лінії та її кольору.\n",
    "\n",
    "При наведенні на якусь лінію на графіку відповідний їй регіон має виділятися на карті за допомогою прозорості."
   ]
  },
  {
   "cell_type": "code",
   "execution_count": 1,
   "metadata": {},
   "outputs": [],
   "source": [
    "import pandas as pd\n",
    "import altair as alt\n",
    "import geopandas as gpd"
   ]
  },
  {
   "cell_type": "code",
   "execution_count": 2,
   "metadata": {},
   "outputs": [
    {
     "data": {
      "text/html": [
       "<div>\n",
       "<style scoped>\n",
       "    .dataframe tbody tr th:only-of-type {\n",
       "        vertical-align: middle;\n",
       "    }\n",
       "\n",
       "    .dataframe tbody tr th {\n",
       "        vertical-align: top;\n",
       "    }\n",
       "\n",
       "    .dataframe thead th {\n",
       "        text-align: right;\n",
       "    }\n",
       "</style>\n",
       "<table border=\"1\" class=\"dataframe\">\n",
       "  <thead>\n",
       "    <tr style=\"text-align: right;\">\n",
       "      <th></th>\n",
       "      <th>region</th>\n",
       "      <th>year</th>\n",
       "      <th>rate</th>\n",
       "    </tr>\n",
       "  </thead>\n",
       "  <tbody>\n",
       "    <tr>\n",
       "      <th>31</th>\n",
       "      <td>Crimea</td>\n",
       "      <td>1989</td>\n",
       "      <td>3.9</td>\n",
       "    </tr>\n",
       "    <tr>\n",
       "      <th>32</th>\n",
       "      <td>Crimea</td>\n",
       "      <td>1990</td>\n",
       "      <td>2.5</td>\n",
       "    </tr>\n",
       "    <tr>\n",
       "      <th>33</th>\n",
       "      <td>Crimea</td>\n",
       "      <td>1991</td>\n",
       "      <td>0.9</td>\n",
       "    </tr>\n",
       "    <tr>\n",
       "      <th>34</th>\n",
       "      <td>Crimea</td>\n",
       "      <td>1992</td>\n",
       "      <td>-0.7</td>\n",
       "    </tr>\n",
       "    <tr>\n",
       "      <th>35</th>\n",
       "      <td>Crimea</td>\n",
       "      <td>1993</td>\n",
       "      <td>-2.7</td>\n",
       "    </tr>\n",
       "  </tbody>\n",
       "</table>\n",
       "</div>"
      ],
      "text/plain": [
       "    region  year  rate\n",
       "31  Crimea  1989   3.9\n",
       "32  Crimea  1990   2.5\n",
       "33  Crimea  1991   0.9\n",
       "34  Crimea  1992  -0.7\n",
       "35  Crimea  1993  -2.7"
      ]
     },
     "execution_count": 2,
     "metadata": {},
     "output_type": "execute_result"
    }
   ],
   "source": [
    "df = pd.read_csv('population_trends.csv')\n",
    "df = df[df.region != 'Ukraine']\n",
    "df.head()"
   ]
  },
  {
   "cell_type": "code",
   "execution_count": 3,
   "metadata": {},
   "outputs": [
    {
     "data": {
      "text/html": [
       "<div>\n",
       "<style scoped>\n",
       "    .dataframe tbody tr th:only-of-type {\n",
       "        vertical-align: middle;\n",
       "    }\n",
       "\n",
       "    .dataframe tbody tr th {\n",
       "        vertical-align: top;\n",
       "    }\n",
       "\n",
       "    .dataframe thead th {\n",
       "        text-align: right;\n",
       "    }\n",
       "</style>\n",
       "<table border=\"1\" class=\"dataframe\">\n",
       "  <thead>\n",
       "    <tr style=\"text-align: right;\">\n",
       "      <th></th>\n",
       "      <th>region</th>\n",
       "      <th>geometry</th>\n",
       "    </tr>\n",
       "  </thead>\n",
       "  <tbody>\n",
       "    <tr>\n",
       "      <th>0</th>\n",
       "      <td>Cherkasy</td>\n",
       "      <td>MULTIPOLYGON (((31.32614 48.74507, 31.31716 48...</td>\n",
       "    </tr>\n",
       "    <tr>\n",
       "      <th>1</th>\n",
       "      <td>Chernihiv</td>\n",
       "      <td>MULTIPOLYGON (((33.09283 50.50966, 33.09261 50...</td>\n",
       "    </tr>\n",
       "    <tr>\n",
       "      <th>2</th>\n",
       "      <td>Chernivtsi</td>\n",
       "      <td>MULTIPOLYGON (((24.93280 47.72794, 24.93301 47...</td>\n",
       "    </tr>\n",
       "    <tr>\n",
       "      <th>3</th>\n",
       "      <td>Crimea</td>\n",
       "      <td>MULTIPOLYGON (((33.79291 44.39153, 33.79465 44...</td>\n",
       "    </tr>\n",
       "    <tr>\n",
       "      <th>4</th>\n",
       "      <td>Dnipropetrovs'k</td>\n",
       "      <td>MULTIPOLYGON (((33.93176 47.48407, 33.92332 47...</td>\n",
       "    </tr>\n",
       "  </tbody>\n",
       "</table>\n",
       "</div>"
      ],
      "text/plain": [
       "            region                                           geometry\n",
       "0         Cherkasy  MULTIPOLYGON (((31.32614 48.74507, 31.31716 48...\n",
       "1        Chernihiv  MULTIPOLYGON (((33.09283 50.50966, 33.09261 50...\n",
       "2       Chernivtsi  MULTIPOLYGON (((24.93280 47.72794, 24.93301 47...\n",
       "3           Crimea  MULTIPOLYGON (((33.79291 44.39153, 33.79465 44...\n",
       "4  Dnipropetrovs'k  MULTIPOLYGON (((33.93176 47.48407, 33.92332 47..."
      ]
     },
     "execution_count": 3,
     "metadata": {},
     "output_type": "execute_result"
    }
   ],
   "source": [
    "ukraine_map = gpd.read_file('ukraine.json')\n",
    "ukraine_map = ukraine_map[['NAME_1', 'geometry']]\n",
    "ukraine_map = ukraine_map.rename(columns={'NAME_1': 'region'})\n",
    "ukraine_map.head()"
   ]
  },
  {
   "cell_type": "code",
   "execution_count": 4,
   "metadata": {},
   "outputs": [
    {
     "data": {
      "text/html": [
       "<div>\n",
       "<style scoped>\n",
       "    .dataframe tbody tr th:only-of-type {\n",
       "        vertical-align: middle;\n",
       "    }\n",
       "\n",
       "    .dataframe tbody tr th {\n",
       "        vertical-align: top;\n",
       "    }\n",
       "\n",
       "    .dataframe thead th {\n",
       "        text-align: right;\n",
       "    }\n",
       "</style>\n",
       "<table border=\"1\" class=\"dataframe\">\n",
       "  <thead>\n",
       "    <tr style=\"text-align: right;\">\n",
       "      <th></th>\n",
       "      <th>region</th>\n",
       "      <th>year</th>\n",
       "      <th>rate</th>\n",
       "    </tr>\n",
       "  </thead>\n",
       "  <tbody>\n",
       "    <tr>\n",
       "      <th>61</th>\n",
       "      <td>Crimea</td>\n",
       "      <td>2019</td>\n",
       "      <td>NaN</td>\n",
       "    </tr>\n",
       "    <tr>\n",
       "      <th>92</th>\n",
       "      <td>Vinnytsya</td>\n",
       "      <td>2019</td>\n",
       "      <td>-7.9</td>\n",
       "    </tr>\n",
       "    <tr>\n",
       "      <th>123</th>\n",
       "      <td>Volyn</td>\n",
       "      <td>2019</td>\n",
       "      <td>-2.8</td>\n",
       "    </tr>\n",
       "    <tr>\n",
       "      <th>154</th>\n",
       "      <td>Dnipropetrovs'k</td>\n",
       "      <td>2019</td>\n",
       "      <td>-8.9</td>\n",
       "    </tr>\n",
       "    <tr>\n",
       "      <th>185</th>\n",
       "      <td>Donets'k</td>\n",
       "      <td>2019</td>\n",
       "      <td>NaN</td>\n",
       "    </tr>\n",
       "  </tbody>\n",
       "</table>\n",
       "</div>"
      ],
      "text/plain": [
       "              region  year  rate\n",
       "61            Crimea  2019   NaN\n",
       "92         Vinnytsya  2019  -7.9\n",
       "123            Volyn  2019  -2.8\n",
       "154  Dnipropetrovs'k  2019  -8.9\n",
       "185         Donets'k  2019   NaN"
      ]
     },
     "execution_count": 4,
     "metadata": {},
     "output_type": "execute_result"
    }
   ],
   "source": [
    "df2019 = df.loc[df.year == 2019]\n",
    "df2019.head()"
   ]
  },
  {
   "cell_type": "code",
   "execution_count": 5,
   "metadata": {},
   "outputs": [],
   "source": [
    "select_region = alt.selection_single(on = 'mouseover', fields = ['region'], nearest = False, empty = 'all')\n",
    "select_line = alt.selection_single(on = 'mouseover', fields = ['region'], nearest = False, empty = 'none')"
   ]
  },
  {
   "cell_type": "code",
   "execution_count": 6,
   "metadata": {},
   "outputs": [],
   "source": [
    "line_chart = alt.Chart(df).mark_line().encode(\n",
    "    x = alt.X('year:Q',\n",
    "              axis = alt.Axis(format = \"1000f\")),\n",
    "    y = alt.Y('rate:Q'),\n",
    "    detail = alt.Detail('region:N'),\n",
    "    \n",
    "    color=alt.condition(\n",
    "        select_line,\n",
    "        alt.value(\"#d60020\"),\n",
    "        alt.value(\"#a3a3a3\")),\n",
    "    \n",
    "    strokeWidth = alt.condition(\n",
    "    select_line,\n",
    "    alt.value(3),\n",
    "    alt.value(1)\n",
    "    ),\n",
    "    tooltip = alt.Tooltip('region:N')\n",
    ")\n",
    "\n",
    "line_chart = line_chart.add_selection(select_region).properties(title = \"Рівень приросту / скорочення населення за регіонами за всіма роками\", \n",
    "                                                                width = 800, height = 500)"
   ]
  },
  {
   "cell_type": "code",
   "execution_count": 23,
   "metadata": {},
   "outputs": [
    {
     "name": "stdout",
     "output_type": "stream",
     "text": [
      "Displaying chart at http://localhost:16242/\n"
     ]
    }
   ],
   "source": [
    "line_chart.show()"
   ]
  },
  {
   "cell_type": "code",
   "execution_count": 7,
   "metadata": {},
   "outputs": [],
   "source": [
    "basee = alt.Chart(ukraine_map).mark_geoshape(fill = 'lightgrey', stroke = 'grey').encode(tooltip = [alt.Tooltip('region:N')])\n",
    "base = basee.properties(width = 800, height = 500)"
   ]
  },
  {
   "cell_type": "code",
   "execution_count": 8,
   "metadata": {},
   "outputs": [],
   "source": [
    "ukraine = alt.Chart(ukraine_map).transform_lookup(\n",
    "    lookup = 'region',\n",
    "    from_ = alt.LookupData(data = df2019, \n",
    "                           key = 'region',\n",
    "                           fields=['region', 'rate'])\n",
    ").mark_geoshape(stroke = 'grey').encode(\n",
    "    color = alt.Color('rate:Q', \n",
    "                      scale = alt.Scale(scheme = 'reds', reverse=True), \n",
    "                      title='Rate',\n",
    "                      legend=alt.Legend(\n",
    "                            orient = 'bottom-left',\n",
    "                            gradientLength = 250\n",
    "                            )),\n",
    "    tooltip = [\n",
    "        alt.Tooltip('region:N'),\n",
    "        alt.Tooltip('rate:N')],\n",
    "    \n",
    "    opacity = alt.condition(\n",
    "        select_region,\n",
    "        alt.value(1),\n",
    "        alt.value(0.2)\n",
    "    )\n",
    ")\n",
    "\n",
    "rate_map = alt.layer(base, ukraine)\n",
    "rate_map = rate_map.add_selection(select_line).properties(title = \"Рівень приросту / скорочення населення за регіонами станом на 2019 рік\",\n",
    "                                                          width = 800, height = 500)\n"
   ]
  },
  {
   "cell_type": "code",
   "execution_count": 13,
   "metadata": {},
   "outputs": [
    {
     "name": "stdout",
     "output_type": "stream",
     "text": [
      "Displaying chart at http://localhost:16242/\n"
     ]
    }
   ],
   "source": [
    "rate_map.show()"
   ]
  },
  {
   "cell_type": "code",
   "execution_count": 9,
   "metadata": {},
   "outputs": [],
   "source": [
    "final_chart = alt.hconcat(rate_map.properties(width = 800, height = 500), \n",
    "            line_chart.properties(width = 800, height = 500)\n",
    "                         ).properties(background = '#F9F9F9', padding = 25).configure_concat(spacing = 0)"
   ]
  },
  {
   "cell_type": "code",
   "execution_count": 10,
   "metadata": {},
   "outputs": [
    {
     "name": "stdout",
     "output_type": "stream",
     "text": [
      "Displaying chart at http://localhost:17721/\n"
     ]
    }
   ],
   "source": [
    "final_chart.show()"
   ]
  },
  {
   "cell_type": "code",
   "execution_count": null,
   "metadata": {},
   "outputs": [],
   "source": []
  }
 ],
 "metadata": {
  "kernelspec": {
   "display_name": "Python 3",
   "language": "python",
   "name": "python3"
  },
  "language_info": {
   "codemirror_mode": {
    "name": "ipython",
    "version": 3
   },
   "file_extension": ".py",
   "mimetype": "text/x-python",
   "name": "python",
   "nbconvert_exporter": "python",
   "pygments_lexer": "ipython3",
   "version": "3.6.5"
  }
 },
 "nbformat": 4,
 "nbformat_minor": 2
}
